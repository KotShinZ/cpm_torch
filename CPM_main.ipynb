{
 "cells": [
  {
   "cell_type": "code",
   "execution_count": null,
   "id": "583930a8",
   "metadata": {},
   "outputs": [],
   "source": [
    "import torch\n",
    "from tqdm import tqdm"
   ]
  },
  {
   "cell_type": "code",
   "execution_count": 2,
   "id": "1beb7770",
   "metadata": {},
   "outputs": [
    {
     "name": "stdout",
     "output_type": "stream",
     "text": [
      "GPUを利用します: NVIDIA H100 PCIe\n"
     ]
    }
   ],
   "source": [
    "# === デバイス設定 ===\n",
    "# CUDA (GPU) が利用可能ならGPUを、そうでなければCPUを使用\n",
    "if torch.cuda.is_available():\n",
    "    device = torch.device(\"cuda\")\n",
    "    print(f\"GPUを利用します: {torch.cuda.get_device_name(0)}\")\n",
    "else:\n",
    "    device = torch.device(\"cpu\")\n",
    "    print(\"CPUを利用します\")\n",
    "\n",
    "# === ハイパーパラメータ ===\n",
    "s_0 = 100.0  # 初期細胞密度（float型を使用）\n",
    "\n",
    "l_A = 1.0  # 面積エネルギー項の係数λ_A\n",
    "l_L = 1.0  # 周囲長エネルギー項の係数λ_L (注意: TF版のcalc_cpm_percentでは未使用だった)\n",
    "A_0 = 150.0  # 目標細胞面積 A_0\n",
    "L_0 = 42.0  # 目標細胞周囲長 L_0 (注意: TF版のcalc_cpm_percentでは未使用だった)\n",
    "\n",
    "T = 1.0  # 温度パラメータ T (ボルツマン分布の計算に使用)\n"
   ]
  },
  {
   "cell_type": "code",
   "execution_count": 3,
   "id": "5a18a8f9",
   "metadata": {},
   "outputs": [
    {
     "name": "stdout",
     "output_type": "stream",
     "text": [
      "GPUを利用します: NVIDIA H100 PCIe\n"
     ]
    }
   ],
   "source": [
    "from CPM import *\n",
    "from CPM_Image import *"
   ]
  },
  {
   "cell_type": "code",
   "execution_count": 4,
   "id": "2a181cc2",
   "metadata": {},
   "outputs": [
    {
     "name": "stdout",
     "output_type": "stream",
     "text": [
      "初期マップ（中央部分）:\n"
     ]
    },
    {
     "data": {
      "image/jpeg": "[encoded data removed]",
      "text/plain": [
       "<IPython.core.display.Image object>"
      ]
     },
     "metadata": {},
     "output_type": "display_data"
    },
    {
     "name": "stdout",
     "output_type": "stream",
     "text": [
      "動画を cpm_torch_jp.mp4 に記録します。\n",
      "map shape  torch.Size([256, 256, 3])\n"
     ]
    },
    {
     "ename": "TypeError",
     "evalue": "'module' object is not callable",
     "output_type": "error",
     "traceback": [
      "\u001b[0;31m---------------------------------------------------------------------------\u001b[0m",
      "\u001b[0;31mTypeError\u001b[0m                                 Traceback (most recent call last)",
      "Cell \u001b[0;32mIn[4], line 25\u001b[0m\n\u001b[1;32m     23\u001b[0m \u001b[38;5;28mprint\u001b[39m(\u001b[38;5;124m\"\u001b[39m\u001b[38;5;124mmap shape \u001b[39m\u001b[38;5;124m\"\u001b[39m, map_tensor\u001b[38;5;241m.\u001b[39mshape) \u001b[38;5;66;03m# マップの形状を表示\u001b[39;00m\n\u001b[1;32m     24\u001b[0m \u001b[38;5;66;03m# --- シミュレーション実行 ---\u001b[39;00m\n\u001b[0;32m---> 25\u001b[0m \u001b[38;5;28;01mfor\u001b[39;00m i \u001b[38;5;129;01min\u001b[39;00m \u001b[43mtqdm\u001b[49m\u001b[43m(\u001b[49m\u001b[38;5;28;43mrange\u001b[39;49m\u001b[43m(\u001b[49m\u001b[43mnum_epochs\u001b[49m\u001b[43m)\u001b[49m\u001b[43m,\u001b[49m\u001b[43m \u001b[49m\u001b[43mdesc\u001b[49m\u001b[38;5;241;43m=\u001b[39;49m\u001b[38;5;124;43m\"\u001b[39;49m\u001b[38;5;124;43mエポック\u001b[39;49m\u001b[38;5;124;43m\"\u001b[39;49m\u001b[43m)\u001b[49m:\n\u001b[1;32m     26\u001b[0m     \u001b[38;5;28;01mfor\u001b[39;00m k \u001b[38;5;129;01min\u001b[39;00m tqdm(\u001b[38;5;28mrange\u001b[39m(steps_per_epoch), desc\u001b[38;5;241m=\u001b[39m\u001b[38;5;124m\"\u001b[39m\u001b[38;5;124mCPMステップ\u001b[39m\u001b[38;5;124m\"\u001b[39m, leave\u001b[38;5;241m=\u001b[39m\u001b[38;5;28;01mFalse\u001b[39;00m):\n\u001b[1;32m     27\u001b[0m \n\u001b[1;32m     28\u001b[0m         \u001b[38;5;66;03m# --- 拡散ステップ ---\u001b[39;00m\n\u001b[0;32m   (...)\u001b[0m\n\u001b[1;32m     33\u001b[0m         \u001b[38;5;66;03m# --- CPM更新ステップ ---\u001b[39;00m\n\u001b[1;32m     34\u001b[0m         \u001b[38;5;66;03m# チェッカーボードパターンで全セルを更新\u001b[39;00m\n\u001b[1;32m     35\u001b[0m         \u001b[38;5;28;01mfor\u001b[39;00m x_offset \u001b[38;5;129;01min\u001b[39;00m \u001b[38;5;28mrange\u001b[39m(\u001b[38;5;241m3\u001b[39m): \u001b[38;5;66;03m# x方向オフセット (0 or 1)\u001b[39;00m\n",
      "\u001b[0;31mTypeError\u001b[0m: 'module' object is not callable"
     ]
    }
   ],
   "source": [
    "map_tensor = map_init(256,256) # マップを初期化\n",
    "print(\"初期マップ（中央部分）:\")\n",
    "imshow_map(map_tensor) # 初期状態を表示\n",
    "\n",
    "num_epochs = 200      # シミュレーションのエポック数\n",
    "steps_per_epoch = 1 # 1エポックあたりのCPMステップ数\n",
    "diffusion_steps = 5 # 1 CPMステップあたりの拡散ステップ数\n",
    "\n",
    "# オプション: 動画記録用ライターの初期化\n",
    "video_filename = 'cpm_torch_jp.mp4'\n",
    "if moviepy_available:\n",
    "    try:\n",
    "        writer = LoopWriter(filename=video_filename, fps=10, fade_len=0.5) # ループ動画ライター\n",
    "        print(f\"動画を {video_filename} に記録します。\")\n",
    "        record_video = True\n",
    "    except Exception as e:\n",
    "        print(f\"動画ライターの初期化に失敗しました: {e}\")\n",
    "        record_video = False\n",
    "else:\n",
    "    record_video = False\n",
    "    print(\"moviepyが利用できないため、動画は記録されません。\")\n",
    "\n",
    "print(\"map shape \", map_tensor.shape) # マップの形状を表示\n",
    "# --- シミュレーション実行 ---\n",
    "for i in tqdm(range(num_epochs), desc=\"エポック\"):\n",
    "    for k in tqdm(range(steps_per_epoch), desc=\"CPMステップ\", leave=False):\n",
    "\n",
    "        # --- 拡散ステップ ---\n",
    "        # 複数の拡散ステップを実行して密度を平滑化\n",
    "        #for _ in range(diffusion_steps):\n",
    "        #     map_tensor = diffusion_step(map_tensor, dt=0.1) # dtは拡散の速さ\n",
    "\n",
    "        # --- CPM更新ステップ ---\n",
    "        # チェッカーボードパターンで全セルを更新\n",
    "        for x_offset in range(3): # x方向オフセット (0 or 1)\n",
    "            for y_offset in range(3): # y方向オフセット (0 or 1)\n",
    "                with torch.no_grad():\n",
    "                  map_tensor, _ = cpm_checkerboard_step(map_tensor, l_A, A_0, l_L, L_0, T,\n",
    "                                                      x_offset, y_offset)\n",
    "\n",
    "        # 数値安定性のため、密度が負にならないようにクランプ\n",
    "        map_tensor[:, :, 1].clamp_(min=0.0)\n",
    "\n",
    "    # --- 各エポック終了時の可視化 ---\n",
    "    if ipython_available:\n",
    "        clear_output(wait=True) # 出力をクリア\n",
    "    print(f\"エポック {i+1}/{num_epochs}\")\n",
    "    print(\"現在のマップ（中央部分）:\")\n",
    "    #imshow_map(map_tensor[100:150,100:150]) # IDに基づく色表示\n",
    "    imshow_map(map_tensor)\n",
    "    print(\"密度マップ（中央部分、自動範囲）:\")\n",
    "    # imshow_map_area_autoRange(map_tensor[100:156, 100:156, 1]) # 密度表示\n",
    "\n",
    "    # デバッグ情報（コメントアウト）\n",
    "    # density_vals = map_tensor[:, :, 1]\n",
    "    # print(f\"密度統計: 最大={density_vals.max().item():.2f}, 最小={density_vals.min().item():.2f}, 合計={density_vals.sum().item():.2f}\")\n",
    "\n",
    "    # --- 動画フレーム追加 ---\n",
    "    if record_video:\n",
    "        try:\n",
    "            frame_rgb = map_tensor_to_rgb(map_tensor) # RGBフレームを取得\n",
    "            # ライターにフレームを追加（imshowと同様、テンソルを直接渡せるようにヘルパー側で処理）\n",
    "            writer.add(frame_rgb)\n",
    "        except Exception as e:\n",
    "            print(f\"フレーム {i+1} の動画への追加中にエラー: {e}\")\n",
    "            record_video = False # エラーが発生したら記録を中止\n",
    "\n",
    "# --- シミュレーション終了後 ---\n",
    "\n",
    "# 動画ライターを閉じる\n",
    "if record_video and writer:\n",
    "    try:\n",
    "        writer.close()\n",
    "        print(f\"動画を {video_filename} に保存しました。\")\n",
    "    except Exception as e:\n",
    "        print(f\"動画ライターのクローズ中にエラー: {e}\")\n",
    "\n",
    "# 最終状態を表示\n",
    "print(\"\\n最終状態のマップ:\")\n",
    "imshow_map(map_tensor)\n",
    "# imshow_map_area_autoRange(map_tensor[:, :, 1])\n",
    "\n",
    "print(\"\\nシミュレーション完了。\")\n",
    "\n",
    "# --- END OF FILE CPM_torch_jp.py ---"
   ]
  }
 ],
 "metadata": {
  "kernelspec": {
   "display_name": "base",
   "language": "python",
   "name": "python3"
  },
  "language_info": {
   "codemirror_mode": {
    "name": "ipython",
    "version": 3
   },
   "file_extension": ".py",
   "mimetype": "text/x-python",
   "name": "python",
   "nbconvert_exporter": "python",
   "pygments_lexer": "ipython3",
   "version": "3.11.10"
  }
 },
 "nbformat": 4,
 "nbformat_minor": 5
}
