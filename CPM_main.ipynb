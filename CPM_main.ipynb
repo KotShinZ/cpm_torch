{
 "cells": [
  {
   "cell_type": "code",
   "execution_count": 1,
   "id": "5a18a8f9",
   "metadata": {},
   "outputs": [
    {
     "name": "stdout",
     "output_type": "stream",
     "text": [
      "GPUを利用します: NVIDIA H100 PCIe\n"
     ]
    }
   ],
   "source": [
    "from CPM import *"
   ]
  },
  {
   "cell_type": "code",
   "execution_count": 2,
   "id": "1beb7770",
   "metadata": {},
   "outputs": [
    {
     "name": "stdout",
     "output_type": "stream",
     "text": [
      "GPUを利用します: NVIDIA H100 PCIe\n"
     ]
    }
   ],
   "source": [
    "# === デバイス設定 ===\n",
    "# CUDA (GPU) が利用可能ならGPUを、そうでなければCPUを使用\n",
    "if torch.cuda.is_available():\n",
    "    device = torch.device(\"cuda\")\n",
    "    print(f\"GPUを利用します: {torch.cuda.get_device_name(0)}\")\n",
    "else:\n",
    "    device = torch.device(\"cpu\")\n",
    "    print(\"CPUを利用します\")\n",
    "\n",
    "# === ハイパーパラメータ ===\n",
    "s_0 = 100.0  # 初期細胞密度（float型を使用）\n",
    "\n",
    "l_A = 1.0  # 面積エネルギー項の係数λ_A\n",
    "l_L = 1.0  # 周囲長エネルギー項の係数λ_L (注意: TF版のcalc_cpm_percentでは未使用だった)\n",
    "A_0 = 150.0  # 目標細胞面積 A_0\n",
    "L_0 = 42.0  # 目標細胞周囲長 L_0 (注意: TF版のcalc_cpm_percentでは未使用だった)\n",
    "\n",
    "T = 1.0  # 温度パラメータ T (ボルツマン分布の計算に使用)\n"
   ]
  },
  {
   "cell_type": "code",
   "execution_count": 4,
   "id": "2a181cc2",
   "metadata": {},
   "outputs": [
    {
     "name": "stdout",
     "output_type": "stream",
     "text": [
      "エポック 20/20\n",
      "現在のマップ（中央部分）:\n"
     ]
    },
    {
     "data": {
      "image/jpeg": "[encoded data removed]",
      "text/plain": [
       "<IPython.core.display.Image object>"
      ]
     },
     "metadata": {},
     "output_type": "display_data"
    },
    {
     "name": "stderr",
     "output_type": "stream",
     "text": [
      "エポック: 100%|██████████| 20/20 [00:00<00:00, 29.83it/s]"
     ]
    },
    {
     "name": "stdout",
     "output_type": "stream",
     "text": [
      "密度マップ（中央部分、自動範囲）:\n",
      "\n",
      "最終状態のマップ:\n"
     ]
    },
    {
     "name": "stderr",
     "output_type": "stream",
     "text": [
      "\n"
     ]
    },
    {
     "data": {
      "image/jpeg": "[encoded data removed]",
      "text/plain": [
       "<IPython.core.display.Image object>"
      ]
     },
     "metadata": {},
     "output_type": "display_data"
    },
    {
     "name": "stdout",
     "output_type": "stream",
     "text": [
      "\n",
      "最終状態の密度マップ（自動範囲）:\n",
      "\n",
      "シミュレーション完了。\n"
     ]
    }
   ],
   "source": [
    "map_tensor = map_init(256,256) # マップを初期化\n",
    "print(\"初期マップ（中央部分）:\")\n",
    "imshow_map(map_tensor) # 初期状態を表示\n",
    "\n",
    "num_epochs = 20      # シミュレーションのエポック数\n",
    "steps_per_epoch = 1 # 1エポックあたりのCPMステップ数\n",
    "diffusion_steps = 5 # 1 CPMステップあたりの拡散ステップ数\n",
    "\n",
    "# オプション: 動画記録用ライターの初期化\n",
    "video_filename = 'cpm_torch_jp.mp4'\n",
    "if moviepy_available:\n",
    "    try:\n",
    "        writer = LoopWriter(filename=video_filename, fps=10, fade_len=0.5) # ループ動画ライター\n",
    "        print(f\"動画を {video_filename} に記録します。\")\n",
    "        record_video = True\n",
    "    except Exception as e:\n",
    "        print(f\"動画ライターの初期化に失敗しました: {e}\")\n",
    "        record_video = False\n",
    "else:\n",
    "    record_video = False\n",
    "    print(\"moviepyが利用できないため、動画は記録されません。\")\n",
    "\n",
    "print(\"map shape \", map_tensor.shape) # マップの形状を表示\n",
    "# --- シミュレーション実行 ---\n",
    "for i in tqdm(range(num_epochs), desc=\"エポック\"):\n",
    "    for k in tqdm(range(steps_per_epoch), desc=\"CPMステップ\", leave=False):\n",
    "\n",
    "        # --- 拡散ステップ ---\n",
    "        # 複数の拡散ステップを実行して密度を平滑化\n",
    "        #for _ in range(diffusion_steps):\n",
    "        #     map_tensor = diffusion_step(map_tensor, dt=0.1) # dtは拡散の速さ\n",
    "\n",
    "        # --- CPM更新ステップ ---\n",
    "        # チェッカーボードパターンで全セルを更新\n",
    "        for x_offset in range(3): # x方向オフセット (0 or 1)\n",
    "            for y_offset in range(3): # y方向オフセット (0 or 1)\n",
    "                # x+y が偶数/奇数のピクセルを交互に更新するイメージ\n",
    "                # ここのオフセットとパッチ抽出関数のオフセット引数の関係に注意\n",
    "                # stride=2のチェッカーボード更新に対応させるため、\n",
    "                # extract_patches_manual_padding_with_offset を使う。\n",
    "                # オフセット(0,0), (1,0), (0,1), (1,1) で呼び出すと全ピクセルが更新される？ -> 要確認\n",
    "                # 元のTFコードは slide_h, slide_w を 0, 1, 2 の範囲でループしていた？\n",
    "                # ここではオフセット(0,0), (1,1) の2回で交互更新を試みる？\n",
    "                # いや、(0,0), (1,0), (0,1), (1,1) で4つのサブセットを更新するのが正しいか？\n",
    "                # 元のTFコードに合わせて x, y in range(3) だった？ -> range(2)で試す\n",
    "                # print(\"time \", k, \"x \", x_offset, \"y \", y_offset)\n",
    "                with torch.no_grad():\n",
    "                  map_tensor, _ = cpm_checkerboard_step(map_tensor, l_A, A_0, l_L, L_0, T,\n",
    "                                                      x_offset, y_offset)\n",
    "\n",
    "        # 数値安定性のため、密度が負にならないようにクランプ\n",
    "        map_tensor[:, :, 1].clamp_(min=0.0)\n",
    "\n",
    "    # --- 各エポック終了時の可視化 ---\n",
    "    if ipython_available:\n",
    "        clear_output(wait=True) # 出力をクリア\n",
    "    print(f\"エポック {i+1}/{num_epochs}\")\n",
    "    print(\"現在のマップ（中央部分）:\")\n",
    "    imshow_map(map_tensor[100:156, 100:156]) # IDに基づく色表示\n",
    "    print(\"密度マップ（中央部分、自動範囲）:\")\n",
    "    # imshow_map_area_autoRange(map_tensor[100:156, 100:156, 1]) # 密度表示\n",
    "\n",
    "    # デバッグ情報（コメントアウト）\n",
    "    # density_vals = map_tensor[:, :, 1]\n",
    "    # print(f\"密度統計: 最大={density_vals.max().item():.2f}, 最小={density_vals.min().item():.2f}, 合計={density_vals.sum().item():.2f}\")\n",
    "\n",
    "    # --- 動画フレーム追加 ---\n",
    "    if record_video:\n",
    "        try:\n",
    "            # 表示用のRGB画像を生成\n",
    "            ids_display = map_tensor[:, :, 0].long() % len(color_list_torch)\n",
    "            frame_rgb = create_rgb_image_from_hue_tensor_pil(color_list_torch[ids_display])\n",
    "            background_mask_display = (ids_display == 0)\n",
    "            frame_rgb[background_mask_display] = torch.tensor([255, 255, 255], dtype=torch.uint8, device=device)\n",
    "            # ライターにフレームを追加（imshowと同様、テンソルを直接渡せるようにヘルパー側で処理）\n",
    "            writer.add(frame_rgb)\n",
    "        except Exception as e:\n",
    "            print(f\"フレーム {i+1} の動画への追加中にエラー: {e}\")\n",
    "            record_video = False # エラーが発生したら記録を中止\n",
    "\n",
    "# --- シミュレーション終了後 ---\n",
    "\n",
    "# 動画ライターを閉じる\n",
    "if record_video and writer:\n",
    "    try:\n",
    "        writer.close()\n",
    "        print(f\"動画を {video_filename} に保存しました。\")\n",
    "    except Exception as e:\n",
    "        print(f\"動画ライターのクローズ中にエラー: {e}\")\n",
    "\n",
    "# 最終状態を表示\n",
    "print(\"\\n最終状態のマップ:\")\n",
    "imshow_map(map_tensor)\n",
    "print(\"\\n最終状態の密度マップ（自動範囲）:\")\n",
    "# imshow_map_area_autoRange(map_tensor[:, :, 1])\n",
    "\n",
    "print(\"\\nシミュレーション完了。\")\n",
    "\n",
    "# --- END OF FILE CPM_torch_jp.py ---"
   ]
  }
 ],
 "metadata": {
  "kernelspec": {
   "display_name": "base",
   "language": "python",
   "name": "python3"
  },
  "language_info": {
   "codemirror_mode": {
    "name": "ipython",
    "version": 3
   },
   "file_extension": ".py",
   "mimetype": "text/x-python",
   "name": "python",
   "nbconvert_exporter": "python",
   "pygments_lexer": "ipython3",
   "version": "3.11.10"
  }
 },
 "nbformat": 4,
 "nbformat_minor": 5
}
