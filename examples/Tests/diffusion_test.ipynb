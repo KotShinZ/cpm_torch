{
 "cells": [
  {
   "cell_type": "code",
   "execution_count": null,
   "id": "03c2ba4b",
   "metadata": {},
   "outputs": [],
   "source": [
    "import torch\n",
    "from tqdm import tqdm\n",
    "from stable_baselines3 import PPO, SAC\n",
    "\n",
    "from stable_baselines3.common.callbacks import EvalCallback\n",
    "\n",
    "import os\n",
    "import sys\n",
    "sys.path.append(os.path.pardir)\n",
    "\n",
    "from cpm_torch.CPM_Image import *\n",
    "from cpm_torch.CPM import *\n",
    "from cpm_torch.CPMEnv import *\n",
    "from cpm_torch.Training.CPM_PPO import *\n",
    "from cpm_torch.Training.CPM_Policy import *\n",
    "from cpm_torch.Training.CPM_SAC_Policy import *\n",
    "from cpm_torch.Diffusion import *"
   ]
  },
  {
   "cell_type": "code",
   "execution_count": null,
   "id": "16a43e5f",
   "metadata": {},
   "outputs": [],
   "source": [
    "if torch.cuda.is_available():\n",
    "    device = torch.device(\"cuda\")\n",
    "    print(f\"GPUを利用します: {torch.cuda.get_device_name(0)}\")\n",
    "else:\n",
    "    device = torch.device(\"cpu\")\n",
    "    print(\"CPUを利用します\")\n",
    "\n",
    "config = CPM_config(\n",
    "    size=(64, 64),  # 画像サイズ\n",
    "    l_A=1.0,  # 面積エネルギー項の係数λ_A\n",
    "    l_L=1.0,  # 周囲長エネルギー項の係数λ_L\n",
    "    A_0=75.0,  # 目標細胞面積 A_0\n",
    "    L_0=40.0,  # 目標細胞周囲長 L_0\n",
    "    T=1.0,  # 温度パラメータ T\n",
    ")\n",
    "print(config.__dict__)"
   ]
  },
  {
   "cell_type": "code",
   "execution_count": null,
   "id": "14dd0a5e",
   "metadata": {},
   "outputs": [],
   "source": [
    "env = CPMEnv(config, device=device)  # CPM環境のインスタンスを作成\n",
    "env.reset()  # 環境をリセット\n",
    "env.render()  # 環境を描画"
   ]
  }
 ],
 "metadata": {
  "language_info": {
   "name": "python"
  }
 },
 "nbformat": 4,
 "nbformat_minor": 5
}
