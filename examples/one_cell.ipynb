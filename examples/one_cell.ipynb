{
 "cells": [
  {
   "cell_type": "code",
   "execution_count": null,
   "id": "62588474",
   "metadata": {},
   "outputs": [
    {
     "ename": "ImportError",
     "evalue": "attempted relative import with no known parent package",
     "output_type": "error",
     "traceback": [
      "\u001b[0;31m---------------------------------------------------------------------------\u001b[0m",
      "\u001b[0;31mImportError\u001b[0m                               Traceback (most recent call last)",
      "Cell \u001b[0;32mIn[2], line 3\u001b[0m\n\u001b[1;32m      1\u001b[0m \u001b[38;5;28;01mimport\u001b[39;00m \u001b[38;5;21;01mtorch\u001b[39;00m\n\u001b[1;32m      2\u001b[0m \u001b[38;5;28;01mfrom\u001b[39;00m \u001b[38;5;21;01mtqdm\u001b[39;00m \u001b[38;5;28;01mimport\u001b[39;00m tqdm\n\u001b[0;32m----> 3\u001b[0m \u001b[38;5;28;01mfrom\u001b[39;00m \u001b[38;5;21;01m.\u001b[39;00m\u001b[38;5;21;01m.\u001b[39;00m\u001b[38;5;21;01mCPM\u001b[39;00m \u001b[38;5;28;01mimport\u001b[39;00m \u001b[38;5;241m*\u001b[39m\n\u001b[1;32m      4\u001b[0m \u001b[38;5;28;01mfrom\u001b[39;00m \u001b[38;5;21;01m.\u001b[39;00m\u001b[38;5;21;01m.\u001b[39;00m\u001b[38;5;21;01mCPM_Image\u001b[39;00m \u001b[38;5;28;01mimport\u001b[39;00m \u001b[38;5;241m*\u001b[39m\n",
      "\u001b[0;31mImportError\u001b[0m: attempted relative import with no known parent package"
     ]
    }
   ],
   "source": [
    "import torch\n",
    "from tqdm import tqdm\n",
    "import os\n",
    "\n",
    "from ..CPM import *\n",
    "from ..CPM_Image import *"
   ]
  },
  {
   "cell_type": "code",
   "execution_count": null,
   "id": "3ace0f37",
   "metadata": {},
   "outputs": [],
   "source": [
    "# === デバイス設定 ===\n",
    "# CUDA (GPU) が利用可能ならGPUを、そうでなければCPUを使用\n",
    "if torch.cuda.is_available():\n",
    "    device = torch.device(\"cuda\")\n",
    "    print(f\"GPUを利用します: {torch.cuda.get_device_name(0)}\")\n",
    "else:\n",
    "    device = torch.device(\"cpu\")\n",
    "    print(\"CPUを利用します\")\n",
    "\n",
    "# === ハイパーパラメータ ===\n",
    "s_0 = 100.0  # 初期細胞密度（float型を使用）\n",
    "\n",
    "l_A = 1.0  # 面積エネルギー項の係数λ_A\n",
    "l_L = 1.0  # 周囲長エネルギー項の係数λ_L\n",
    "A_0 = 150.0  # 目標細胞面積 A_0\n",
    "L_0 = 82.0  # 目標細胞周囲長 L_0\n",
    "\n",
    "T = 1.0  # 温度パラメータ T (ボルツマン分布の計算に使用)"
   ]
  },
  {
   "cell_type": "code",
   "execution_count": null,
   "id": "b85dbe04",
   "metadata": {},
   "outputs": [],
   "source": [
    "map_tensor = torch.zeros((256, 256, 3), dtype=torch.float32, device=device)\n",
    "\n",
    "for x in range(10):\n",
    "    for y in range(10):\n",
    "        # 10x10のグリッドに細胞を配置\n",
    "        # 1つの細胞のサイズは25x25ピクセル\n",
    "        cell_x = x + 122\n",
    "        cell_y = y + 122\n",
    "        # 各細胞の初期密度をs_0に設定\n",
    "        map_tensor, _ = add_cell(\n",
    "            map_tensor, slice(cell_x, cell_x + 1), slice(cell_y, cell_y + 1), s_0\n",
    "        )\n",
    "imshow_map(map_tensor) # 初期状態を表示"
   ]
  }
 ],
 "metadata": {
  "kernelspec": {
   "display_name": "base",
   "language": "python",
   "name": "python3"
  },
  "language_info": {
   "codemirror_mode": {
    "name": "ipython",
    "version": 3
   },
   "file_extension": ".py",
   "mimetype": "text/x-python",
   "name": "python",
   "nbconvert_exporter": "python",
   "pygments_lexer": "ipython3",
   "version": "3.11.10"
  }
 },
 "nbformat": 4,
 "nbformat_minor": 5
}
