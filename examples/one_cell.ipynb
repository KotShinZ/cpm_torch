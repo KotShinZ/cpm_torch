{
 "cells": [
  {
   "cell_type": "code",
   "execution_count": null,
   "id": "583930a8",
   "metadata": {},
   "outputs": [],
   "source": [
    "import torch\n",
    "from tqdm import tqdm"
   ]
  },
  {
   "cell_type": "code",
   "execution_count": null,
   "id": "4a582378",
   "metadata": {},
   "outputs": [],
   "source": [
    "import os\n",
    "import sys\n",
    "\n",
    "sys.path.append(os.path.pardir)"
   ]
  },
  {
   "cell_type": "code",
   "execution_count": null,
   "id": "5a18a8f9",
   "metadata": {},
   "outputs": [],
   "source": [
    "from cpm_torch.CPM_Image import *\n",
    "from cpm_torch.CPM import *"
   ]
  },
  {
   "cell_type": "code",
   "execution_count": null,
   "id": "1beb7770",
   "metadata": {},
   "outputs": [
    {
     "name": "stdout",
     "output_type": "stream",
     "text": [
      "GPUを利用します: NVIDIA H100 PCIe\n",
      "{'size': (256, 256), 'dim': 2, 'height': 256, 'width': 256, 'depth': 1, 'l_A': 1.0, 'l_L': 1.0, 'A_0': 150.0, 'L_0': 20.0, 'T': 1.0}\n"
     ]
    }
   ],
   "source": [
    "if torch.cuda.is_available():\n",
    "    device = torch.device(\"cuda\")\n",
    "    print(f\"GPUを利用します: {torch.cuda.get_device_name(0)}\")\n",
    "else:\n",
    "    device = torch.device(\"cpu\")\n",
    "    print(\"CPUを利用します\")\n",
    "\n",
    "config = CPM_config(\n",
    "    l_A=1.0,  # 面積エネルギー項の係数λ_A\n",
    "    l_L=1.0,  # 周囲長エネルギー項の係数λ_L\n",
    "    A_0=150.0,  # 目標細胞面積 A_0\n",
    "    L_0=20.0,  # 目標細胞周囲長 L_0\n",
    "    T=1.0,  # 温度パラメータ T\n",
    ")\n",
    "print(config.__dict__)"
   ]
  },
  {
   "cell_type": "markdown",
   "id": "a006a3ec",
   "metadata": {},
   "source": [
    "### 初期条件"
   ]
  },
  {
   "cell_type": "code",
   "execution_count": null,
   "id": "0f934191",
   "metadata": {},
   "outputs": [
    {
     "data": {
      "image/jpeg": "[encoded data removed]",
      "text/plain": [
       "<IPython.core.display.Image object>"
      ]
     },
     "metadata": {},
     "output_type": "display_data"
    }
   ],
   "source": [
    "cpm = CPM(config, device)  # CPMのインスタンスを作成\n",
    "cpm.add_cell(128, 128)\n",
    "imshow_map(cpm.map_tensor)  # 初期状態を表示"
   ]
  },
  {
   "cell_type": "markdown",
   "id": "495d27ea",
   "metadata": {},
   "source": [
    "### シュミレーション"
   ]
  },
  {
   "cell_type": "code",
   "execution_count": null,
   "id": "2a181cc2",
   "metadata": {},
   "outputs": [
    {
     "name": "stderr",
     "output_type": "stream",
     "text": [
      "ステップ: 100%|██████████| 500/500 [00:07<00:00, 64.02it/s]\n"
     ]
    },
    {
     "data": {
      "image/jpeg": "[encoded data removed]",
      "text/plain": [
       "<IPython.core.display.Image object>"
      ]
     },
     "metadata": {},
     "output_type": "display_data"
    }
   ],
   "source": [
    "\n",
    "step = 500      # シミュレーションのエポック数\n",
    "mcs_per_step = 1 # 1エポックあたりのCPMステップ数\n",
    "diffusion_steps = 5 # 1 CPMステップあたりの拡散ステップ数\n",
    "\n",
    "# オプション: 動画記録用ライターの初期化\n",
    "video_filename = '../results/cpm_torch_jp.mp4'\n",
    "writer = LoopWriter(filename=video_filename, fps=10) # ループ動画ライター\n",
    "\n",
    "# --- シミュレーション実行 ---\n",
    "for i in tqdm(range(step), desc=\"ステップ\"):\n",
    "    for k in range(mcs_per_step):\n",
    "        cpm.cpm_mcs_step()\n",
    "    \n",
    "    # --- 動画フレーム追加 ---\n",
    "    frame_rgb = map_tensor_to_rgb(cpm.map_tensor)\n",
    "    writer.add(frame_rgb)\n",
    "\n",
    "writer.close()\n",
    "imshow_map(cpm.map_tensor)"
   ]
  }
 ],
 "metadata": {
  "kernelspec": {
   "display_name": "Python 3",
   "language": "python",
   "name": "python3"
  },
  "language_info": {
   "codemirror_mode": {
    "name": "ipython",
    "version": 3
   },
   "file_extension": ".py",
   "mimetype": "text/x-python",
   "name": "python",
   "nbconvert_exporter": "python",
   "pygments_lexer": "ipython3",
   "version": "3.9.17"
  }
 },
 "nbformat": 4,
 "nbformat_minor": 5
}
