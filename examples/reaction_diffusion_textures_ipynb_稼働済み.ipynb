{
  "cells": [
    {
      "cell_type": "markdown",
      "metadata": {
        "id": "PjXu2YrO2nmv"
      },
      "source": [
        "# \"Differentiable Programming of Reaction-Diffusion Patterns\" supplementary code\n",
        "\n",
        "* [Project page](https://selforglive.github.io/alife_rd_textures/)\n",
        "* [Paper](https://selforglive.github.io/alife_rd_textures/ALIFE_Reaction_Diffusion.pdf)\n",
        "\n",
        "\n"
      ]
    },
    {
      "cell_type": "code",
      "execution_count": null,
      "metadata": {
        "cellView": "form",
        "colab": {
          "base_uri": "https://localhost:8080/"
        },
        "id": "0TbR_5p00kOM",
        "outputId": "36784d52-5aee-4f82-e896-5929e8850b62"
      },
      "outputs": [
        {
          "name": "stderr",
          "output_type": "stream",
          "text": [
            "WARNING:py.warnings:/usr/local/lib/python3.11/dist-packages/moviepy/video/io/sliders.py:61: SyntaxWarning: \"is\" with a literal. Did you mean \"==\"?\n",
            "  if event.key is 'enter':\n",
            "\n"
          ]
        },
        {
          "name": "stdout",
          "output_type": "stream",
          "text": [
            "GPU 0: Tesla T4 (UUID: GPU-9f0a6be8-7a70-026c-e59c-ecf24572ca19)\n"
          ]
        }
      ],
      "source": [
        "#@title Imports and Notebook Utilities\n",
        "import os\n",
        "import io\n",
        "import PIL.Image, PIL.ImageDraw\n",
        "import base64\n",
        "import zipfile\n",
        "import json\n",
        "import requests\n",
        "import numpy as np\n",
        "import matplotlib.pylab as pl\n",
        "import glob\n",
        "from scipy import ndimage\n",
        "\n",
        "from tqdm import tnrange\n",
        "\n",
        "import tensorflow as tf\n",
        "\n",
        "from IPython.display import Image, HTML, clear_output\n",
        "import tqdm\n",
        "\n",
        "os.environ['FFMPEG_BINARY'] = 'ffmpeg'\n",
        "import moviepy.editor as mvp\n",
        "from moviepy.video.io.ffmpeg_writer import FFMPEG_VideoWriter\n",
        "\n",
        "\n",
        "def imread(url, max_size=None, mode=None):\n",
        "  if url.startswith(('http:', 'https:')):\n",
        "    r = requests.get(url)\n",
        "    f = io.BytesIO(r.content)\n",
        "  else:\n",
        "    f = url\n",
        "  img = PIL.Image.open(f)\n",
        "  if max_size is not None:\n",
        "    img.thumbnail((max_size, max_size), PIL.Image.ANTIALIAS)\n",
        "  if mode is not None:\n",
        "    img = img.convert(mode)\n",
        "  img = np.float32(img)/255.0\n",
        "  return img\n",
        "\n",
        "def np2pil(a):\n",
        "  if a.dtype in [np.float32, np.float64]:\n",
        "    a = np.uint8(np.clip(a, 0, 1)*255)\n",
        "  return PIL.Image.fromarray(a)\n",
        "\n",
        "def imwrite(f, a, fmt=None):\n",
        "  a = np.asarray(a)\n",
        "  if isinstance(f, str):\n",
        "    fmt = f.rsplit('.', 1)[-1].lower()\n",
        "    if fmt == 'jpg':\n",
        "      fmt = 'jpeg'\n",
        "    f = open(f, 'wb')\n",
        "  np2pil(a).save(f, fmt, quality=95)\n",
        "\n",
        "def imencode(a, fmt='jpeg'):\n",
        "  a = np.asarray(a)\n",
        "  if len(a.shape) == 3 and a.shape[-1] == 4:\n",
        "    fmt = 'png'\n",
        "  f = io.BytesIO()\n",
        "  imwrite(f, a, fmt)\n",
        "  return f.getvalue()\n",
        "\n",
        "def im2url(a, fmt='jpeg'):\n",
        "  encoded = imencode(a, fmt)\n",
        "  base64_byte_string = base64.b64encode(encoded).decode('ascii')\n",
        "  return 'data:image/' + fmt.upper() + ';base64,' + base64_byte_string\n",
        "\n",
        "def imshow(a, fmt='jpeg'):\n",
        "  display(Image(data=imencode(a, fmt)))\n",
        "\n",
        "def tile2d(a, w=None):\n",
        "  a = np.asarray(a)\n",
        "  if w is None:\n",
        "    w = int(np.ceil(np.sqrt(len(a))))\n",
        "  th, tw = a.shape[1:3]\n",
        "  pad = (w-len(a))%w\n",
        "  a = np.pad(a, [(0, pad)]+[(0, 0)]*(a.ndim-1), 'constant')\n",
        "  h = len(a)//w\n",
        "  a = a.reshape([h, w]+list(a.shape[1:]))\n",
        "  a = np.rollaxis(a, 2, 1).reshape([th*h, tw*w]+list(a.shape[4:]))\n",
        "  return a\n",
        "\n",
        "def zoom(img, scale=4):\n",
        "  img = np.repeat(img, scale, 0)\n",
        "  img = np.repeat(img, scale, 1)\n",
        "  return img\n",
        "\n",
        "class VideoWriter:\n",
        "  def __init__(self, filename='_tmp.mp4', fps=30.0, **kw):\n",
        "    self.writer = None\n",
        "    self.params = dict(filename=filename, fps=fps, **kw)\n",
        "\n",
        "  def add(self, img):\n",
        "    img = np.asarray(img)\n",
        "    if self.writer is None:\n",
        "      h, w = img.shape[:2]\n",
        "      self.writer = FFMPEG_VideoWriter(size=(w, h), **self.params)\n",
        "    if img.dtype in [np.float32, np.float64]:\n",
        "      img = np.uint8(img.clip(0, 1)*255)\n",
        "    if len(img.shape) == 2:\n",
        "      img = np.repeat(img[..., None], 3, -1)\n",
        "    self.writer.write_frame(img)\n",
        "\n",
        "  def close(self):\n",
        "    if self.writer:\n",
        "      self.writer.close()\n",
        "\n",
        "  def __enter__(self):\n",
        "    return self\n",
        "\n",
        "  def __exit__(self, *kw):\n",
        "    self.close()\n",
        "    if self.params['filename'] == '_tmp.mp4':\n",
        "      self.show()\n",
        "\n",
        "  def show(self, **kw):\n",
        "      self.close()\n",
        "      fn = self.params['filename']\n",
        "      display(mvp.ipython_display(fn, **kw))\n",
        "\n",
        "\n",
        "class LoopWriter(VideoWriter):\n",
        "  def __init__(self, *a, **kw):\n",
        "    super().__init__(*a, **kw)\n",
        "    self._intro = []\n",
        "    self._outro = []\n",
        "    self.fade_len = int(kw.get('fade_len', 1.0)*self.params['fps'])\n",
        "\n",
        "  def add(self, img):\n",
        "    if len(self._intro) < self.fade_len:\n",
        "      self._intro.append(img)\n",
        "      return\n",
        "    self._outro.append(img)\n",
        "    if len(self._outro) > self.fade_len:\n",
        "      super().add(self._outro.pop(0))\n",
        "\n",
        "  def close(self):\n",
        "    for t in np.linspace(0, 1, len(self._intro)):\n",
        "      img = self._intro.pop(0)*t + self._outro.pop(0)*(1.0-t)\n",
        "      super().add(img)\n",
        "    super().close()\n",
        "\n",
        "!nvidia-smi -L"
      ]
    },
    {
      "cell_type": "code",
      "execution_count": null,
      "metadata": {
        "colab": {
          "base_uri": "https://localhost:8080/"
        },
        "id": "w2lnGBt6gTTa",
        "outputId": "ded3ba69-b244-4e1b-e3da-03b5b8cf5530"
      },
      "outputs": [
        {
          "name": "stdout",
          "output_type": "stream",
          "text": [
            "--2025-05-04 19:07:29--  https://github.com/google-research/self-organising-systems/raw/master/assets/reaction_diffusion_textures/targets.zip\n",
            "Resolving github.com (github.com)... 20.27.177.113\n",
            "Connecting to github.com (github.com)|20.27.177.113|:443... connected.\n",
            "HTTP request sent, awaiting response... 302 Found\n",
            "Location: https://raw.githubusercontent.com/google-research/self-organising-systems/master/assets/reaction_diffusion_textures/targets.zip [following]\n",
            "--2025-05-04 19:07:29--  https://raw.githubusercontent.com/google-research/self-organising-systems/master/assets/reaction_diffusion_textures/targets.zip\n",
            "Resolving raw.githubusercontent.com (raw.githubusercontent.com)... 185.199.109.133, 185.199.111.133, 185.199.110.133, ...\n",
            "Connecting to raw.githubusercontent.com (raw.githubusercontent.com)|185.199.109.133|:443... connected.\n",
            "HTTP request sent, awaiting response... 200 OK\n",
            "Length: 63479 (62K) [application/zip]\n",
            "Saving to: ‘targets.zip’\n",
            "\n",
            "targets.zip         100%[===================>]  61.99K  --.-KB/s    in 0.08s   \n",
            "\n",
            "2025-05-04 19:07:30 (761 KB/s) - ‘targets.zip’ saved [63479/63479]\n",
            "\n",
            "Archive:  targets.zip\n",
            "  inflating: banded_0037_target.jpg  \n",
            "  inflating: chequered_0121_target.jpg  \n",
            "  inflating: grid_0135_target.jpg    \n",
            "  inflating: interlaced_0172_target.jpg  \n",
            "  inflating: lined_0118_target.jpg   \n",
            "  inflating: lizard_target.jpg       \n",
            "  inflating: polka-dotted_0121_target.jpg  \n"
          ]
        }
      ],
      "source": [
        "!wget https://github.com/google-research/self-organising-systems/raw/master/assets/reaction_diffusion_textures/targets.zip && unzip targets.zip"
      ]
    },
    {
      "cell_type": "code",
      "execution_count": null,
      "metadata": {
        "colab": {
          "base_uri": "https://localhost:8080/",
          "height": 274
        },
        "id": "VbIwCyhZSdKd",
        "outputId": "8398cc9f-b759-4de9-9548-362f403eed83"
      },
      "outputs": [
        {
          "name": "stderr",
          "output_type": "stream",
          "text": [
            "WARNING:py.warnings:<ipython-input-3-16807baf16aa>:2: DeprecationWarning: Please import `gaussian_filter` from the `scipy.ndimage` namespace; the `scipy.ndimage.filters` namespace is deprecated and will be removed in SciPy 2.0.0.\n",
            "  from scipy.ndimage.filters import gaussian_filter\n",
            "\n"
          ]
        },
        {
          "name": "stdout",
          "output_type": "stream",
          "text": [
            "(1, 96, 96, 32)\n",
            "Parameter count: 8320\n",
            "Seed state examples:\n"
          ]
        },
        {
          "data": {
            "image/jpeg": "[encoded data removed]",
            "text/plain": [
              "<IPython.core.display.Image object>"
            ]
          },
          "metadata": {},
          "output_type": "display_data"
        }
      ],
      "source": [
        "#@title RD Model definition {vertical-output: true}\n",
        "from scipy.ndimage.filters import gaussian_filter\n",
        "from tensorflow.keras.layers import Conv2D\n",
        "\n",
        "# Number of grid \"chemical\" channels\n",
        "CHN = 32\n",
        "noLaplacian = 0\n",
        "\n",
        "def seed_f(n, sz=96, spot_prob=0.005, spread=3.0):\n",
        "  '''Create seed states with scattered gaussian blobs'''\n",
        "  x = tf.floor(tf.random.uniform([n, sz, sz, 1])+spot_prob)\n",
        "  x = gaussian_filter(x, [0.0, spread, spread, 0.0], mode='wrap')\n",
        "  x = x*spread**2\n",
        "  x = tf.repeat(x, 3, -1)\n",
        "  x = tf.pad(x, [(0, 0), (0, 0), (0, 0), (0, CHN-x.shape[-1])])\n",
        "  return x.numpy()\n",
        "\n",
        "def pad_repeat(x, pad=1):\n",
        "  x = tf.concat([x[:, -pad:], x, x[:, :pad]], 1)\n",
        "  x = tf.concat([x[:, :, -pad:], x, x[:, :, :pad]], 2)\n",
        "  return x\n",
        "\n",
        "def to_rgb(x):\n",
        "  return x[...,:3]+0.5\n",
        "\n",
        "@tf.function\n",
        "def laplacian(x):\n",
        "  temp = x[:, :, :, :noLaplacian]\n",
        "  x = x[:, :, :, noLaplacian:]\n",
        "  lap = np.float32([[ 1, 2, 1], [2, 4-16, 2], [1, 2, 1]]) / 16.0\n",
        "  kernel = tf.repeat(lap[:,:,None,None], x.shape[-1], 2)\n",
        "  x = pad_repeat(x, 1)\n",
        "  y = tf.nn.depthwise_conv2d(x, kernel, [1, 1, 1, 1], 'VALID')\n",
        "  y = tf.concat([temp, y], -1)\n",
        "  return y\n",
        "\n",
        "@tf.function\n",
        "def hamiltonian(x):\n",
        "  lap = np.float32([[ 1, 2, 1], [2, 4-16, 2], [1, 2, 1]]) / 16.0\n",
        "  kernel = tf.repeat(lap[:,:,None,None], x.shape[-1], 2)\n",
        "  x = pad_repeat(x, 1)\n",
        "  y = tf.nn.depthwise_conv2d(x, kernel, [1, 1, 1, 1], 'VALID')\n",
        "  return y\n",
        "\n",
        "\n",
        "class CA(tf.keras.layers.Layer):\n",
        "  def __init__(self):\n",
        "    super(CA, self).__init__() # 親クラスの __init__ を呼び出す\n",
        "    self.w1 = Conv2D(128, 1)\n",
        "    self.w2 = Conv2D(CHN, 1, use_bias=False, kernel_initializer=tf.zeros)\n",
        "    self.diff_coef = tf.repeat([0.125, 0.25, 0.5, 1.0], CHN//4)\n",
        "    self(seed_f(1))\n",
        "\n",
        "  def get_giff_coef(self):\n",
        "    return self.diff_coef\n",
        "\n",
        "  @tf.function\n",
        "  def __call__(self, x, r=1.0, d=1.0):\n",
        "    diff = laplacian(x)*self.get_giff_coef()\n",
        "    y = self.w1(x)\n",
        "    y = y*tf.nn.sigmoid(y*5.0)\n",
        "    react = self.w2(y)\n",
        "    x = x + diff*d + react*r\n",
        "    return x\n",
        "\n",
        "ca = CA()\n",
        "\n",
        "# Layer は最初に入力形状を知る必要がある (ビルドのため)\n",
        "# ダミーデータで一度呼び出すことでビルドされる\n",
        "dummy_seed = seed_f(1) # TensorFlow Tensor を渡す\n",
        "print(dummy_seed.shape)\n",
        "_ = ca(dummy_seed) # これで内部の Conv2D レイヤーがビルドされ、重みが作成される\n",
        "\n",
        "param_n = np.sum([np.prod(v.shape) for v in ca.trainable_variables])\n",
        "print('Parameter count:', param_n)\n",
        "\n",
        "print('Seed state examples:')\n",
        "img = to_rgb(seed_f(4, 128))\n",
        "img = np.pad(img, [(0, 0), (0, 0), (2, 2), (0, 0)], constant_values=1.0)\n",
        "imshow(np.hstack(img))"
      ]
    },
    {
      "cell_type": "markdown",
      "metadata": {
        "id": "wHPBYqAewzng"
      },
      "source": [
        "# RD model training"
      ]
    },
    {
      "cell_type": "code",
      "execution_count": null,
      "metadata": {
        "id": "Jrxj9u_j-8EQ"
      },
      "outputs": [],
      "source": [
        "#@title VGG16 texture model\n",
        "STYLE_LAYERS = ['block%d_conv1'%i for i in range(1, 6)]\n",
        "CONTENT_LAYER = 'block4_conv2'\n",
        "\n",
        "class StyleModel:\n",
        "  def __init__(self):\n",
        "    vgg = tf.keras.applications.vgg16.VGG16(include_top=False, weights='imagenet')\n",
        "    vgg.trainable = False\n",
        "    layers = STYLE_LAYERS + [CONTENT_LAYER]\n",
        "    layers = {name:vgg.get_layer(name).output for name in layers}\n",
        "    self.model = tf.keras.Model([vgg.input], layers)\n",
        "\n",
        "  #@tf.function(experimental_relax_shapes=True)\n",
        "  def run_model(self, img):\n",
        "    img = img[..., ::-1]*255.0 - np.float32([103.939, 116.779, 123.68])\n",
        "    layers = self.model(img)\n",
        "    style = [layers[name] for name in STYLE_LAYERS]\n",
        "    return style, layers[CONTENT_LAYER]\n",
        "\n",
        "  def calc_style_content(self, img):\n",
        "    style_layers, content = self.run_model(img)\n",
        "    style = [gram_style(a) for a in style_layers]\n",
        "    return style, content\n",
        "\n",
        "def gram_style(a):\n",
        "  n, h, w, ch = tf.unstack(tf.shape(a))\n",
        "  a = tf.sqrt(a+1.0)-1.0\n",
        "  gram = tf.einsum('bhwc, bhwd -> bcd', a, a)\n",
        "  return gram / tf.cast(h*w, tf.float32)\n",
        "\n",
        "@tf.function\n",
        "def style_loss(a, b): # reduce_mean\n",
        "  return tf.add_n([tf.reduce_mean(tf.square(x-y), [-2, -1]) for x, y in zip(a, b)])\n",
        "\n",
        "\n",
        "style_model = StyleModel()\n"
      ]
    },
    {
      "cell_type": "code",
      "execution_count": null,
      "metadata": {
        "id": "hkmW4r3qV-77"
      },
      "outputs": [],
      "source": [
        "#@title Inception model\n",
        "\n",
        "inception_pb = 'gs://modelzoo/vision/other_models/InceptionV1.pb'\n",
        "\n",
        "class Inception:\n",
        "  def __init__(self):\n",
        "    with tf.io.gfile.GFile(inception_pb, 'rb') as f:\n",
        "      self.graph_def = tf.compat.v1.GraphDef.FromString(f.read())\n",
        "    avgpool0_idx = [n.name for n in self.graph_def.node].index('avgpool0')\n",
        "    del self.graph_def.node[avgpool0_idx:]\n",
        "    del self.graph_def.node[0]  # placeholder\n",
        "    # use pre_relu layers for Concat nodes\n",
        "    self.outputs = []\n",
        "    for node in self.graph_def.node:\n",
        "      if 'Concat' in node.op:\n",
        "        self.outputs.append(node.name+':0')\n",
        "        self.outputs += [inp+'_pre_relu:0' for inp in node.input[1:]]\n",
        "\n",
        "  @tf.function(experimental_compile=True)\n",
        "  def __call__(self, x):\n",
        "    imgs = x*255.0-117.0\n",
        "    outputs = tf.import_graph_def(self.graph_def, {'input':imgs}, self.outputs)\n",
        "    outputs = dict(zip(self.outputs, outputs))\n",
        "    layers = {}\n",
        "    for node in self.graph_def.node:\n",
        "      if 'Concat' in node.op:\n",
        "        layers[node.name] = outputs[node.name+':0']\n",
        "        pre_relus = [outputs[inp+'_pre_relu:0'] for inp in node.input[1:]]\n",
        "        layers[node.name+'_pre_relu'] = tf.concat(pre_relus, -1)\n",
        "    return layers\n",
        "\n",
        "model = Inception()\n",
        "model_name = 'inception'"
      ]
    },
    {
      "cell_type": "code",
      "execution_count": null,
      "metadata": {
        "colab": {
          "base_uri": "https://localhost:8080/",
          "height": 203
        },
        "id": "EvQ_5NHb_1Od",
        "outputId": "c9381a5a-22f4-4f96-c281-3f533a3dc31b"
      },
      "outputs": [
        {
          "data": {
            "image/jpeg": "[encoded data removed]",
            "text/plain": [
              "<IPython.core.display.Image object>"
            ]
          },
          "metadata": {},
          "output_type": "display_data"
        },
        {
          "name": "stderr",
          "output_type": "stream",
          "text": [
            "WARNING:py.warnings:/usr/local/lib/python3.11/dist-packages/keras/src/models/functional.py:237: UserWarning: The structure of `inputs` doesn't match the expected structure.\n",
            "Expected: ['keras_tensor_19']\n",
            "Received: inputs=Tensor(shape=(1, 96, 96, 3))\n",
            "  warnings.warn(msg)\n",
            "\n"
          ]
        }
      ],
      "source": [
        "model_name = 'lizard'\n",
        "style_img = imread('%s_target.jpg'%model_name)\n",
        "imshow(style_img)\n",
        "\n",
        "# RD system is fully isotropic, so we use a variant of texture loss that\n",
        "# tries to match input image with rotated versions of the target sample\n",
        "target_styles = []\n",
        "for r in np.linspace(0.0, 360, 65)[:-1]+0.12345:\n",
        "  img = ndimage.rotate(style_img, r, reshape=False, mode='wrap')\n",
        "  style, _ = style_model.calc_style_content(img[None,...])\n",
        "  target_styles.append(style)\n",
        "imwrite('%s.jpg'%model_name, style_img)"
      ]
    },
    {
      "cell_type": "code",
      "execution_count": null,
      "metadata": {
        "id": "qBEE-NZ8ud9F"
      },
      "outputs": [],
      "source": [
        "#@title Setup training\n",
        "ca = CA()\n",
        "dummy_seed = seed_f(1) # TensorFlow Tensor を渡す\n",
        "_ = ca(dummy_seed) # これで内部の Conv2D レイヤーがビルドされ、重みが作成される\n",
        "\n",
        "loss_log = []\n",
        "\n",
        "lr = tf.keras.optimizers.schedules.PiecewiseConstantDecay([1000, 10000], [1e-3, 2e-4, 5e-5])\n",
        "trainer = tf.optimizers.Adam(lr)\n",
        "\n",
        "@tf.function\n",
        "def style_loss_f(x):\n",
        "  imgs = to_rgb(x)\n",
        "  gs, content = style_model.calc_style_content(imgs)\n",
        "  sl = np.inf\n",
        "  for ts in target_styles:\n",
        "    sl = tf.minimum(sl, style_loss(gs, ts))\n",
        "  return tf.reduce_mean(sl)\n",
        "\n",
        "# *BONUS* Inception-V1 feature visualisztion loss may produce\n",
        "# interesting patterns for some channels (esp. for those\n",
        "# that correspond to isotropic textures)\n",
        "@tf.function\n",
        "def inception_loss_f(x):\n",
        "  imgs = to_rgb(x)\n",
        "  clip_imgs = tf.clip_by_value(imgs, 0.0, 1.0)\n",
        "  overflow_loss = tf.reduce_mean(tf.square(clip_imgs-imgs))\n",
        "  tensor = model(clip_imgs)['mixed4a_pre_relu']\n",
        "  loss = -tf.reduce_mean(tensor[...,461])\n",
        "  return loss + overflow_loss*10.0\n",
        "\n",
        "pool = seed_f(1024)\n",
        "\n",
        "@tf.function\n",
        "def train_step(x):\n",
        "  with tf.GradientTape() as g:\n",
        "    step_n = tf.random.uniform([], 32, 128, tf.int32)\n",
        "    for i in tf.range(step_n):\n",
        "      x = ca(x)\n",
        "    loss = style_loss_f(x)\n",
        "    print(loss)\n",
        "  params = ca.trainable_variables\n",
        "  grads = g.gradient(loss, params)\n",
        "  grads = [g/(tf.norm(g)+1e-8) for g in grads]\n",
        "  trainer.apply_gradients(zip(grads, params))\n",
        "  return loss, x"
      ]
    },
    {
      "cell_type": "code",
      "execution_count": null,
      "metadata": {
        "colab": {
          "base_uri": "https://localhost:8080/",
          "height": 1000
        },
        "id": "porrM5ee3Osm",
        "outputId": "2494d97e-0ecb-46e8-86ec-158a6d812b28"
      },
      "outputs": [
        {
          "data": {
            "image/png": "[encoded data removed]",
            "text/plain": [
              "<Figure size 640x480 with 1 Axes>"
            ]
          },
          "metadata": {},
          "output_type": "display_data"
        },
        {
          "data": {
            "image/jpeg": "[encoded data removed]",
            "text/plain": [
              "<IPython.core.display.Image object>"
            ]
          },
          "metadata": {},
          "output_type": "display_data"
        },
        {
          "data": {
            "image/jpeg": "[encoded data removed]",
            "text/plain": [
              "<IPython.core.display.Image object>"
            ]
          },
          "metadata": {},
          "output_type": "display_data"
        },
        {
          "name": "stdout",
          "output_type": "stream",
          "text": [
            "\r 497 16474.36"
          ]
        },
        {
          "ename": "KeyboardInterrupt",
          "evalue": "",
          "output_type": "error",
          "traceback": [
            "\u001b[0;31m---------------------------------------------------------------------------\u001b[0m",
            "\u001b[0;31mKeyboardInterrupt\u001b[0m                         Traceback (most recent call last)",
            "\u001b[0;32m<ipython-input-14-e9bc8bca94de>\u001b[0m in \u001b[0;36m<cell line: 0>\u001b[0;34m()\u001b[0m\n\u001b[1;32m      6\u001b[0m     \u001b[0mx0\u001b[0m\u001b[0;34m[\u001b[0m\u001b[0;34m:\u001b[0m\u001b[0;36m1\u001b[0m\u001b[0;34m]\u001b[0m \u001b[0;34m=\u001b[0m \u001b[0mseed_f\u001b[0m\u001b[0;34m(\u001b[0m\u001b[0;36m1\u001b[0m\u001b[0;34m)\u001b[0m\u001b[0;34m\u001b[0m\u001b[0;34m\u001b[0m\u001b[0m\n\u001b[1;32m      7\u001b[0m   \u001b[0mh\u001b[0m\u001b[0;34m,\u001b[0m \u001b[0mw\u001b[0m \u001b[0;34m=\u001b[0m \u001b[0mx0\u001b[0m\u001b[0;34m.\u001b[0m\u001b[0mshape\u001b[0m\u001b[0;34m[\u001b[0m\u001b[0;36m1\u001b[0m\u001b[0;34m:\u001b[0m\u001b[0;34m-\u001b[0m\u001b[0;36m1\u001b[0m\u001b[0;34m]\u001b[0m\u001b[0;34m\u001b[0m\u001b[0;34m\u001b[0m\u001b[0m\n\u001b[0;32m----> 8\u001b[0;31m   \u001b[0mloss\u001b[0m\u001b[0;34m,\u001b[0m \u001b[0mx\u001b[0m \u001b[0;34m=\u001b[0m \u001b[0mtrain_step\u001b[0m\u001b[0;34m(\u001b[0m\u001b[0mx0\u001b[0m\u001b[0;34m)\u001b[0m\u001b[0;34m\u001b[0m\u001b[0;34m\u001b[0m\u001b[0m\n\u001b[0m\u001b[1;32m      9\u001b[0m   \u001b[0mpool\u001b[0m\u001b[0;34m[\u001b[0m\u001b[0mbatch_idx\u001b[0m\u001b[0;34m]\u001b[0m \u001b[0;34m=\u001b[0m \u001b[0mx\u001b[0m\u001b[0;34m\u001b[0m\u001b[0;34m\u001b[0m\u001b[0m\n\u001b[1;32m     10\u001b[0m   \u001b[0mloss_log\u001b[0m\u001b[0;34m.\u001b[0m\u001b[0mappend\u001b[0m\u001b[0;34m(\u001b[0m\u001b[0mloss\u001b[0m\u001b[0;34m.\u001b[0m\u001b[0mnumpy\u001b[0m\u001b[0;34m(\u001b[0m\u001b[0;34m)\u001b[0m\u001b[0;34m)\u001b[0m\u001b[0;34m\u001b[0m\u001b[0;34m\u001b[0m\u001b[0m\n",
            "\u001b[0;32m/usr/local/lib/python3.11/dist-packages/tensorflow/python/util/traceback_utils.py\u001b[0m in \u001b[0;36merror_handler\u001b[0;34m(*args, **kwargs)\u001b[0m\n\u001b[1;32m    148\u001b[0m     \u001b[0mfiltered_tb\u001b[0m \u001b[0;34m=\u001b[0m \u001b[0;32mNone\u001b[0m\u001b[0;34m\u001b[0m\u001b[0;34m\u001b[0m\u001b[0m\n\u001b[1;32m    149\u001b[0m     \u001b[0;32mtry\u001b[0m\u001b[0;34m:\u001b[0m\u001b[0;34m\u001b[0m\u001b[0;34m\u001b[0m\u001b[0m\n\u001b[0;32m--> 150\u001b[0;31m       \u001b[0;32mreturn\u001b[0m \u001b[0mfn\u001b[0m\u001b[0;34m(\u001b[0m\u001b[0;34m*\u001b[0m\u001b[0margs\u001b[0m\u001b[0;34m,\u001b[0m \u001b[0;34m**\u001b[0m\u001b[0mkwargs\u001b[0m\u001b[0;34m)\u001b[0m\u001b[0;34m\u001b[0m\u001b[0;34m\u001b[0m\u001b[0m\n\u001b[0m\u001b[1;32m    151\u001b[0m     \u001b[0;32mexcept\u001b[0m \u001b[0mException\u001b[0m \u001b[0;32mas\u001b[0m \u001b[0me\u001b[0m\u001b[0;34m:\u001b[0m\u001b[0;34m\u001b[0m\u001b[0;34m\u001b[0m\u001b[0m\n\u001b[1;32m    152\u001b[0m       \u001b[0mfiltered_tb\u001b[0m \u001b[0;34m=\u001b[0m \u001b[0m_process_traceback_frames\u001b[0m\u001b[0;34m(\u001b[0m\u001b[0me\u001b[0m\u001b[0;34m.\u001b[0m\u001b[0m__traceback__\u001b[0m\u001b[0;34m)\u001b[0m\u001b[0;34m\u001b[0m\u001b[0;34m\u001b[0m\u001b[0m\n",
            "\u001b[0;32m/usr/local/lib/python3.11/dist-packages/tensorflow/python/eager/polymorphic_function/polymorphic_function.py\u001b[0m in \u001b[0;36m__call__\u001b[0;34m(self, *args, **kwds)\u001b[0m\n\u001b[1;32m    831\u001b[0m \u001b[0;34m\u001b[0m\u001b[0m\n\u001b[1;32m    832\u001b[0m       \u001b[0;32mwith\u001b[0m \u001b[0mOptionalXlaContext\u001b[0m\u001b[0;34m(\u001b[0m\u001b[0mself\u001b[0m\u001b[0;34m.\u001b[0m\u001b[0m_jit_compile\u001b[0m\u001b[0;34m)\u001b[0m\u001b[0;34m:\u001b[0m\u001b[0;34m\u001b[0m\u001b[0;34m\u001b[0m\u001b[0m\n\u001b[0;32m--> 833\u001b[0;31m         \u001b[0mresult\u001b[0m \u001b[0;34m=\u001b[0m \u001b[0mself\u001b[0m\u001b[0;34m.\u001b[0m\u001b[0m_call\u001b[0m\u001b[0;34m(\u001b[0m\u001b[0;34m*\u001b[0m\u001b[0margs\u001b[0m\u001b[0;34m,\u001b[0m \u001b[0;34m**\u001b[0m\u001b[0mkwds\u001b[0m\u001b[0;34m)\u001b[0m\u001b[0;34m\u001b[0m\u001b[0;34m\u001b[0m\u001b[0m\n\u001b[0m\u001b[1;32m    834\u001b[0m \u001b[0;34m\u001b[0m\u001b[0m\n\u001b[1;32m    835\u001b[0m       \u001b[0mnew_tracing_count\u001b[0m \u001b[0;34m=\u001b[0m \u001b[0mself\u001b[0m\u001b[0;34m.\u001b[0m\u001b[0mexperimental_get_tracing_count\u001b[0m\u001b[0;34m(\u001b[0m\u001b[0;34m)\u001b[0m\u001b[0;34m\u001b[0m\u001b[0;34m\u001b[0m\u001b[0m\n",
            "\u001b[0;32m/usr/local/lib/python3.11/dist-packages/tensorflow/python/eager/polymorphic_function/polymorphic_function.py\u001b[0m in \u001b[0;36m_call\u001b[0;34m(self, *args, **kwds)\u001b[0m\n\u001b[1;32m    867\u001b[0m       \u001b[0;31m# In this case we have created variables on the first call, so we run the\u001b[0m\u001b[0;34m\u001b[0m\u001b[0;34m\u001b[0m\u001b[0m\n\u001b[1;32m    868\u001b[0m       \u001b[0;31m# defunned version which is guaranteed to never create variables.\u001b[0m\u001b[0;34m\u001b[0m\u001b[0;34m\u001b[0m\u001b[0m\n\u001b[0;32m--> 869\u001b[0;31m       return tracing_compilation.call_function(\n\u001b[0m\u001b[1;32m    870\u001b[0m           \u001b[0margs\u001b[0m\u001b[0;34m,\u001b[0m \u001b[0mkwds\u001b[0m\u001b[0;34m,\u001b[0m \u001b[0mself\u001b[0m\u001b[0;34m.\u001b[0m\u001b[0m_no_variable_creation_config\u001b[0m\u001b[0;34m\u001b[0m\u001b[0;34m\u001b[0m\u001b[0m\n\u001b[1;32m    871\u001b[0m       )\n",
            "\u001b[0;32m/usr/local/lib/python3.11/dist-packages/tensorflow/python/eager/polymorphic_function/tracing_compilation.py\u001b[0m in \u001b[0;36mcall_function\u001b[0;34m(args, kwargs, tracing_options)\u001b[0m\n\u001b[1;32m    137\u001b[0m   \u001b[0mbound_args\u001b[0m \u001b[0;34m=\u001b[0m \u001b[0mfunction\u001b[0m\u001b[0;34m.\u001b[0m\u001b[0mfunction_type\u001b[0m\u001b[0;34m.\u001b[0m\u001b[0mbind\u001b[0m\u001b[0;34m(\u001b[0m\u001b[0;34m*\u001b[0m\u001b[0margs\u001b[0m\u001b[0;34m,\u001b[0m \u001b[0;34m**\u001b[0m\u001b[0mkwargs\u001b[0m\u001b[0;34m)\u001b[0m\u001b[0;34m\u001b[0m\u001b[0;34m\u001b[0m\u001b[0m\n\u001b[1;32m    138\u001b[0m   \u001b[0mflat_inputs\u001b[0m \u001b[0;34m=\u001b[0m \u001b[0mfunction\u001b[0m\u001b[0;34m.\u001b[0m\u001b[0mfunction_type\u001b[0m\u001b[0;34m.\u001b[0m\u001b[0munpack_inputs\u001b[0m\u001b[0;34m(\u001b[0m\u001b[0mbound_args\u001b[0m\u001b[0;34m)\u001b[0m\u001b[0;34m\u001b[0m\u001b[0;34m\u001b[0m\u001b[0m\n\u001b[0;32m--> 139\u001b[0;31m   return function._call_flat(  # pylint: disable=protected-access\n\u001b[0m\u001b[1;32m    140\u001b[0m       \u001b[0mflat_inputs\u001b[0m\u001b[0;34m,\u001b[0m \u001b[0mcaptured_inputs\u001b[0m\u001b[0;34m=\u001b[0m\u001b[0mfunction\u001b[0m\u001b[0;34m.\u001b[0m\u001b[0mcaptured_inputs\u001b[0m\u001b[0;34m\u001b[0m\u001b[0;34m\u001b[0m\u001b[0m\n\u001b[1;32m    141\u001b[0m   )\n",
            "\u001b[0;32m/usr/local/lib/python3.11/dist-packages/tensorflow/python/eager/polymorphic_function/concrete_function.py\u001b[0m in \u001b[0;36m_call_flat\u001b[0;34m(self, tensor_inputs, captured_inputs)\u001b[0m\n\u001b[1;32m   1320\u001b[0m         and executing_eagerly):\n\u001b[1;32m   1321\u001b[0m       \u001b[0;31m# No tape is watching; skip to running the function.\u001b[0m\u001b[0;34m\u001b[0m\u001b[0;34m\u001b[0m\u001b[0m\n\u001b[0;32m-> 1322\u001b[0;31m       \u001b[0;32mreturn\u001b[0m \u001b[0mself\u001b[0m\u001b[0;34m.\u001b[0m\u001b[0m_inference_function\u001b[0m\u001b[0;34m.\u001b[0m\u001b[0mcall_preflattened\u001b[0m\u001b[0;34m(\u001b[0m\u001b[0margs\u001b[0m\u001b[0;34m)\u001b[0m\u001b[0;34m\u001b[0m\u001b[0;34m\u001b[0m\u001b[0m\n\u001b[0m\u001b[1;32m   1323\u001b[0m     forward_backward = self._select_forward_and_backward_functions(\n\u001b[1;32m   1324\u001b[0m         \u001b[0margs\u001b[0m\u001b[0;34m,\u001b[0m\u001b[0;34m\u001b[0m\u001b[0;34m\u001b[0m\u001b[0m\n",
            "\u001b[0;32m/usr/local/lib/python3.11/dist-packages/tensorflow/python/eager/polymorphic_function/atomic_function.py\u001b[0m in \u001b[0;36mcall_preflattened\u001b[0;34m(self, args)\u001b[0m\n\u001b[1;32m    214\u001b[0m   \u001b[0;32mdef\u001b[0m \u001b[0mcall_preflattened\u001b[0m\u001b[0;34m(\u001b[0m\u001b[0mself\u001b[0m\u001b[0;34m,\u001b[0m \u001b[0margs\u001b[0m\u001b[0;34m:\u001b[0m \u001b[0mSequence\u001b[0m\u001b[0;34m[\u001b[0m\u001b[0mcore\u001b[0m\u001b[0;34m.\u001b[0m\u001b[0mTensor\u001b[0m\u001b[0;34m]\u001b[0m\u001b[0;34m)\u001b[0m \u001b[0;34m->\u001b[0m \u001b[0mAny\u001b[0m\u001b[0;34m:\u001b[0m\u001b[0;34m\u001b[0m\u001b[0;34m\u001b[0m\u001b[0m\n\u001b[1;32m    215\u001b[0m     \u001b[0;34m\"\"\"Calls with flattened tensor inputs and returns the structured output.\"\"\"\u001b[0m\u001b[0;34m\u001b[0m\u001b[0;34m\u001b[0m\u001b[0m\n\u001b[0;32m--> 216\u001b[0;31m     \u001b[0mflat_outputs\u001b[0m \u001b[0;34m=\u001b[0m \u001b[0mself\u001b[0m\u001b[0;34m.\u001b[0m\u001b[0mcall_flat\u001b[0m\u001b[0;34m(\u001b[0m\u001b[0;34m*\u001b[0m\u001b[0margs\u001b[0m\u001b[0;34m)\u001b[0m\u001b[0;34m\u001b[0m\u001b[0;34m\u001b[0m\u001b[0m\n\u001b[0m\u001b[1;32m    217\u001b[0m     \u001b[0;32mreturn\u001b[0m \u001b[0mself\u001b[0m\u001b[0;34m.\u001b[0m\u001b[0mfunction_type\u001b[0m\u001b[0;34m.\u001b[0m\u001b[0mpack_output\u001b[0m\u001b[0;34m(\u001b[0m\u001b[0mflat_outputs\u001b[0m\u001b[0;34m)\u001b[0m\u001b[0;34m\u001b[0m\u001b[0;34m\u001b[0m\u001b[0m\n\u001b[1;32m    218\u001b[0m \u001b[0;34m\u001b[0m\u001b[0m\n",
            "\u001b[0;32m/usr/local/lib/python3.11/dist-packages/tensorflow/python/eager/polymorphic_function/atomic_function.py\u001b[0m in \u001b[0;36mcall_flat\u001b[0;34m(self, *args)\u001b[0m\n\u001b[1;32m    249\u001b[0m         \u001b[0;32mwith\u001b[0m \u001b[0mrecord\u001b[0m\u001b[0;34m.\u001b[0m\u001b[0mstop_recording\u001b[0m\u001b[0;34m(\u001b[0m\u001b[0;34m)\u001b[0m\u001b[0;34m:\u001b[0m\u001b[0;34m\u001b[0m\u001b[0;34m\u001b[0m\u001b[0m\n\u001b[1;32m    250\u001b[0m           \u001b[0;32mif\u001b[0m \u001b[0mself\u001b[0m\u001b[0;34m.\u001b[0m\u001b[0m_bound_context\u001b[0m\u001b[0;34m.\u001b[0m\u001b[0mexecuting_eagerly\u001b[0m\u001b[0;34m(\u001b[0m\u001b[0;34m)\u001b[0m\u001b[0;34m:\u001b[0m\u001b[0;34m\u001b[0m\u001b[0;34m\u001b[0m\u001b[0m\n\u001b[0;32m--> 251\u001b[0;31m             outputs = self._bound_context.call_function(\n\u001b[0m\u001b[1;32m    252\u001b[0m                 \u001b[0mself\u001b[0m\u001b[0;34m.\u001b[0m\u001b[0mname\u001b[0m\u001b[0;34m,\u001b[0m\u001b[0;34m\u001b[0m\u001b[0;34m\u001b[0m\u001b[0m\n\u001b[1;32m    253\u001b[0m                 \u001b[0mlist\u001b[0m\u001b[0;34m(\u001b[0m\u001b[0margs\u001b[0m\u001b[0;34m)\u001b[0m\u001b[0;34m,\u001b[0m\u001b[0;34m\u001b[0m\u001b[0;34m\u001b[0m\u001b[0m\n",
            "\u001b[0;32m/usr/local/lib/python3.11/dist-packages/tensorflow/python/eager/context.py\u001b[0m in \u001b[0;36mcall_function\u001b[0;34m(self, name, tensor_inputs, num_outputs)\u001b[0m\n\u001b[1;32m   1681\u001b[0m     \u001b[0mcancellation_context\u001b[0m \u001b[0;34m=\u001b[0m \u001b[0mcancellation\u001b[0m\u001b[0;34m.\u001b[0m\u001b[0mcontext\u001b[0m\u001b[0;34m(\u001b[0m\u001b[0;34m)\u001b[0m\u001b[0;34m\u001b[0m\u001b[0;34m\u001b[0m\u001b[0m\n\u001b[1;32m   1682\u001b[0m     \u001b[0;32mif\u001b[0m \u001b[0mcancellation_context\u001b[0m \u001b[0;32mis\u001b[0m \u001b[0;32mNone\u001b[0m\u001b[0;34m:\u001b[0m\u001b[0;34m\u001b[0m\u001b[0;34m\u001b[0m\u001b[0m\n\u001b[0;32m-> 1683\u001b[0;31m       outputs = execute.execute(\n\u001b[0m\u001b[1;32m   1684\u001b[0m           \u001b[0mname\u001b[0m\u001b[0;34m.\u001b[0m\u001b[0mdecode\u001b[0m\u001b[0;34m(\u001b[0m\u001b[0;34m\"utf-8\"\u001b[0m\u001b[0;34m)\u001b[0m\u001b[0;34m,\u001b[0m\u001b[0;34m\u001b[0m\u001b[0;34m\u001b[0m\u001b[0m\n\u001b[1;32m   1685\u001b[0m           \u001b[0mnum_outputs\u001b[0m\u001b[0;34m=\u001b[0m\u001b[0mnum_outputs\u001b[0m\u001b[0;34m,\u001b[0m\u001b[0;34m\u001b[0m\u001b[0;34m\u001b[0m\u001b[0m\n",
            "\u001b[0;32m/usr/local/lib/python3.11/dist-packages/tensorflow/python/eager/execute.py\u001b[0m in \u001b[0;36mquick_execute\u001b[0;34m(op_name, num_outputs, inputs, attrs, ctx, name)\u001b[0m\n\u001b[1;32m     51\u001b[0m   \u001b[0;32mtry\u001b[0m\u001b[0;34m:\u001b[0m\u001b[0;34m\u001b[0m\u001b[0;34m\u001b[0m\u001b[0m\n\u001b[1;32m     52\u001b[0m     \u001b[0mctx\u001b[0m\u001b[0;34m.\u001b[0m\u001b[0mensure_initialized\u001b[0m\u001b[0;34m(\u001b[0m\u001b[0;34m)\u001b[0m\u001b[0;34m\u001b[0m\u001b[0;34m\u001b[0m\u001b[0m\n\u001b[0;32m---> 53\u001b[0;31m     tensors = pywrap_tfe.TFE_Py_Execute(ctx._handle, device_name, op_name,\n\u001b[0m\u001b[1;32m     54\u001b[0m                                         inputs, attrs, num_outputs)\n\u001b[1;32m     55\u001b[0m   \u001b[0;32mexcept\u001b[0m \u001b[0mcore\u001b[0m\u001b[0;34m.\u001b[0m\u001b[0m_NotOkStatusException\u001b[0m \u001b[0;32mas\u001b[0m \u001b[0me\u001b[0m\u001b[0;34m:\u001b[0m\u001b[0;34m\u001b[0m\u001b[0;34m\u001b[0m\u001b[0m\n",
            "\u001b[0;31mKeyboardInterrupt\u001b[0m: "
          ]
        }
      ],
      "source": [
        "#@title Training loop {vertical-output: true}\n",
        "for i in range(20000):\n",
        "  batch_idx = np.random.choice(len(pool), 4, replace=False)\n",
        "  x0 = pool[batch_idx]\n",
        "  if i%32==0:   # periodically inject seed states in the batch\n",
        "    x0[:1] = seed_f(1)\n",
        "  h, w = x0.shape[1:-1]\n",
        "  loss, x = train_step(x0)\n",
        "  pool[batch_idx] = x\n",
        "  loss_log.append(loss.numpy())\n",
        "  if i%16 == 0:\n",
        "    clear_output(True)\n",
        "    pl.plot(loss_log, '.', alpha=0.3)\n",
        "    if np.min(loss_log) > 0.0:\n",
        "      pl.yscale('log')\n",
        "    pl.ylim(np.min(loss_log), loss_log[0])\n",
        "    pl.grid()\n",
        "    pl.show()\n",
        "    imshow(np.hstack(to_rgb(x0)))\n",
        "    imshow(np.hstack(to_rgb(x)))\n",
        "    print('\\r', len(loss_log), loss.numpy(), end='')\n",
        "  if len(loss_log)%1000 == 0:\n",
        "    np.save('%s_%05d.npy'%(model_name, len(loss_log)),\n",
        "            [v.numpy() for v in ca.variables])\n",
        "\n",
        "\n"
      ]
    },
    {
      "cell_type": "code",
      "execution_count": null,
      "metadata": {
        "id": "PCC7UWRZT-8R"
      },
      "outputs": [],
      "source": [
        "#@title Model behavior video {vertical-output: true}\n",
        "with VideoWriter() as vid:\n",
        "  x = seed_f(1, 256)\n",
        "  for i in tqdm.tnrange(30*8):\n",
        "    step_n = min(int(2**(i/30.0)), 200)\n",
        "    for _ in range(step_n):\n",
        "      x = ca(x, r=0.5)\n",
        "    frame = to_rgb(x)[0]\n",
        "    vid.add(zoom(frame, 2))\n"
      ]
    },
    {
      "cell_type": "markdown",
      "metadata": {
        "id": "9AxhGOOayO_Y"
      },
      "source": [
        "# Experiments with pretrained models"
      ]
    },
    {
      "cell_type": "code",
      "execution_count": null,
      "metadata": {
        "id": "e1zwHnCot4yP"
      },
      "outputs": [],
      "source": [
        "!wget https://github.com/google-research/self-organising-systems/raw/master/assets/reaction_diffusion_textures/rd_tex_models.zip"
      ]
    },
    {
      "cell_type": "code",
      "execution_count": null,
      "metadata": {
        "id": "AL5rtcasORIi"
      },
      "outputs": [],
      "source": [
        "models = np.load('rd_tex_models.zip', allow_pickle=True)\n",
        "names = ['banded_0037_20000', 'lined_0118_15000', 'polka-dotted_0121_20000',\n",
        "         'grid_0135_20000', 'interlaced_0172_20000', 'chequered_0121_20000',\n",
        "         'lizard_20000']"
      ]
    },
    {
      "cell_type": "code",
      "execution_count": null,
      "metadata": {
        "id": "XqF9t9AHVlLs"
      },
      "outputs": [],
      "source": [
        "#@title Figure 2 {vertical-output: true}\n",
        "#@markdown RD-generated patterns (videos are stored as \"\\<model_name\\>.mp4\")\n",
        "ca = CA()\n",
        "rows = []\n",
        "for name in names:\n",
        "  src = name.rsplit('_', 1)[0]+'_target.jpg'\n",
        "  src = imread(src)\n",
        "  ph, pw = (128-np.int32(src.shape[:2]))//2\n",
        "  src = np.pad(src, [(ph, ph), (pw, pw), (0, 0)], 'edge')\n",
        "  [v.assign(p) for p, v in zip(models[name], ca.variables)]\n",
        "  x = seed_f(3, 128)\n",
        "  with VideoWriter(name+'.mp4') as vid:\n",
        "    for i in tnrange(30*10):\n",
        "      step_n = min(2**(i//30), 128)\n",
        "      for i in range(step_n):\n",
        "        x = ca(x)\n",
        "      img = to_rgb(x)\n",
        "      img = np.pad(img, [(0, 0), (0, 0), (8, 0), (0, 0)], constant_values=1.0)\n",
        "      img = np.hstack(img)\n",
        "      img = np.hstack([src, np.ones([128, 8, 3]), img])\n",
        "      vid.add(zoom(img, 2))\n",
        "  imshow(img)\n",
        "  print(name[:-6])"
      ]
    },
    {
      "cell_type": "code",
      "execution_count": null,
      "metadata": {
        "id": "snGq-HoeIM-k"
      },
      "outputs": [],
      "source": [
        "#@title Figure 3: grid states at steps 50, 1e2, 1e3, 1e4 {vertical-output: true}\n",
        "ca = CA()\n",
        "rows = []\n",
        "for name in 'lined_0118_15000 polka-dotted_0121_20000 lizard_20000'.split():\n",
        "  [v.assign(p) for p, v in zip(models[name], ca.variables)]\n",
        "  x = seed_f(1, 128)\n",
        "  imgs = []\n",
        "  for i in range(10000):\n",
        "    x = ca(x)\n",
        "    if (i+1) in [50, 100, 1000, 10000]:\n",
        "      img = to_rgb(x)[0]\n",
        "      img = np.pad(img, [(2, 2), (2, 2), (0, 0)], constant_values=1.0)\n",
        "      imgs.append(img)\n",
        "  row = np.hstack(imgs)\n",
        "  rows.append(row)\n",
        "  imshow(row)\n",
        "imwrite('rows.jpg', np.vstack(rows))"
      ]
    },
    {
      "cell_type": "code",
      "execution_count": null,
      "metadata": {
        "id": "697ubrmWRmos"
      },
      "outputs": [],
      "source": [
        "#@title Figure 4: non-unifirm diffusion speed {vertical-output: true}\n",
        "y, x = np.ogrid[-2:2:256j,-2:2:256j]\n",
        "s = 3**-2\n",
        "r = s+np.exp(-x*x-y*y)*(1.0-s)\n",
        "r = np.float32(r[:,:,None])\n",
        "\n",
        "ca = CA()\n",
        "for name in names:\n",
        "  [v.assign(p) for p, v in zip(models[name], ca.variables)]\n",
        "  x = seed_f(1, 256)\n",
        "  for i in tnrange(10000, leave=False):\n",
        "    x = ca(x, r=r)\n",
        "  imshow(to_rgb(x)[0])"
      ]
    },
    {
      "cell_type": "code",
      "execution_count": null,
      "metadata": {
        "id": "YdtI7esGGrEq"
      },
      "outputs": [],
      "source": [
        "#@title Figure 4 (non-unifirm diffusion speed video) {vertical-output: true}\n",
        "y, x = np.ogrid[-2:2:256j,-2:2:256j]\n",
        "s = 3**-2\n",
        "r = s+np.exp(-x*x-y*y)*(1.0-s)\n",
        "r = np.float32(r[:,:,None])\n",
        "\n",
        "ca = CA()\n",
        "[v.assign(p) for p, v in zip(models['grid_0135_20000'], ca.variables)]\n",
        "\n",
        "with LoopWriter('loop.mp4') as vid:\n",
        "  x = seed_f(1, 256)\n",
        "  for i in tnrange(30*10, leave=False):\n",
        "    step_n = min(int(2**(i/30.0)), 200)\n",
        "    for _ in range(step_n):\n",
        "      x = ca(x, r=r)\n",
        "    img = tf.image.resize(to_rgb(x)[0], [512, 512], tf.image.ResizeMethod.BICUBIC)\n",
        "    vid.add(img)\n",
        "vid.show(loop=True)"
      ]
    },
    {
      "cell_type": "markdown",
      "metadata": {
        "id": "BWp_NdnIy5PN"
      },
      "source": [
        "# Mesh and Volume generalization"
      ]
    },
    {
      "cell_type": "code",
      "execution_count": null,
      "metadata": {
        "id": "Pwm2Ev471jRG"
      },
      "outputs": [],
      "source": [
        "!pip install trimesh vispy\n",
        "import vispy\n",
        "vispy.use(app='egl')"
      ]
    },
    {
      "cell_type": "code",
      "execution_count": null,
      "metadata": {
        "id": "HBTsQlXO549O"
      },
      "outputs": [],
      "source": [
        "!wget http://graphics.stanford.edu/pub/3Dscanrep/bunny.tar.gz && tar -xzf bunny.tar.gz"
      ]
    },
    {
      "cell_type": "code",
      "execution_count": null,
      "metadata": {
        "id": "dQeyrUGD4U2K"
      },
      "outputs": [],
      "source": [
        "import trimesh\n",
        "mesh = trimesh.load('bunny/reconstruction/bun_zipper.ply')\n",
        "mesh.vertices -= mesh.vertices.mean(0, keepdims=True)\n",
        "mesh.vertices /= mesh.vertices.ptp()\n",
        "lap = trimesh.smoothing.laplacian_calculation(mesh, False)\n",
        "lap = tf.sparse.SparseTensor(np.c_[lap.row, lap.col],\n",
        "                           np.float32(lap.data), lap.shape)"
      ]
    },
    {
      "cell_type": "code",
      "execution_count": null,
      "metadata": {
        "cellView": "form",
        "id": "TFjaoHvNQh4E"
      },
      "outputs": [],
      "source": [
        "#@title mesh 3d render\n",
        "from vispy import gloo, app\n",
        "\n",
        "vertex = \"\"\"\n",
        "    uniform float aspect;\n",
        "    uniform mat4 T;\n",
        "    attribute vec3 position;\n",
        "    attribute vec3 normal;\n",
        "    attribute vec3 color;\n",
        "    varying vec3 v_color;\n",
        "    varying vec3 v_normal;\n",
        "    void main()\n",
        "    {\n",
        "      v_color = color;\n",
        "      v_normal = (T*vec4(normal, 1.0)).rgb;\n",
        "      vec4 p = T*vec4(position, 1.0);\n",
        "      float zoom = 1.4;\n",
        "      gl_Position = vec4(zoom*p.x,\n",
        "                         zoom*p.y*aspect,\n",
        "                         -p.z, 1.0-p.z*0.2);\n",
        "    } \"\"\"\n",
        "\n",
        "fragment = \"\"\"\n",
        "    varying vec3 v_color;\n",
        "    varying vec3 v_normal;\n",
        "    void main() {\n",
        "      vec3 n = normalize(v_normal);\n",
        "      gl_FragColor = vec4(v_color*n.z, 1.0);\n",
        "    } \"\"\"\n",
        "\n",
        "class Canvas(app.Canvas):\n",
        "    def __init__(self, mesh):\n",
        "        super().__init__(size=(800, 600))\n",
        "\n",
        "        self.indices = gloo.IndexBuffer(np.uint32(mesh.faces))\n",
        "        self.program = gloo.Program(vertex, fragment)\n",
        "        self.program['position'] = np.float32(mesh.vertices.copy())\n",
        "        self.program['normal'] = np.float32(mesh.vertex_normals.copy())\n",
        "        w, h = self.size\n",
        "        self.program['aspect'] = w/h\n",
        "\n",
        "    def on_draw(self, event):\n",
        "      gloo.set_state('opaque')\n",
        "      gloo.set_clear_color('white')\n",
        "      gloo.clear()\n",
        "      self.program.draw('triangles', self.indices)\n",
        "\n",
        "    def render_mesh(self, color, T=np.eye(4)):\n",
        "      self.program['color'] = color\n",
        "      self.program['T'] = T\n",
        "      return self.render()[..., :3]\n",
        "\n",
        "renderer = Canvas(mesh)"
      ]
    },
    {
      "cell_type": "code",
      "execution_count": null,
      "metadata": {
        "id": "hcT6-qoB6sbF"
      },
      "outputs": [],
      "source": [
        "names"
      ]
    },
    {
      "cell_type": "code",
      "execution_count": null,
      "metadata": {
        "id": "axNe33Pj0U0t"
      },
      "outputs": [],
      "source": [
        "#@title Figure 5: RD model on a mesh {vertical-output: true}\n",
        "ca = CA()\n",
        "name = 'lizard_20000'\n",
        "[v.assign(p) for p, v in zip(models[name], ca.variables)]\n",
        "\n",
        "@tf.function\n",
        "def step_f(ca, x, r=0.8, d=0.5):\n",
        "  w1 = ca.w1.kernel[0, 0]\n",
        "  b1 = ca.w1.bias\n",
        "  w2 = ca.w2.kernel[0, 0]\n",
        "  lx = tf.sparse.sparse_dense_matmul(lap, x)-x\n",
        "  diff = lx*ca.get_giff_coef()\n",
        "  y = x@w1+b1\n",
        "  y = y*tf.nn.sigmoid(y*5.0)\n",
        "  react = y@w2\n",
        "  x = x + diff*d + react*r\n",
        "  return x\n",
        "\n",
        "x = np.floor(np.random.rand(len(mesh.vertices), 1)+0.005).astype(np.float32)\n",
        "for i in range(8):\n",
        "  x = tf.sparse.sparse_dense_matmul(lap, x)\n",
        "x *= 6.0\n",
        "x = np.float32(x*(np.arange(CHN)<3))\n",
        "\n",
        "fps = 60.0\n",
        "dur = 10\n",
        "with VideoWriter('mesh_%s.mp4'%name, fps=fps) as vid:\n",
        "  for i in tnrange(int(fps*dur)):\n",
        "    step_n = int(min(2**(i/fps), 30))\n",
        "    for _ in range(step_n):\n",
        "      x = step_f(ca, x)\n",
        "    rgb = to_rgb(x).numpy()\n",
        "    t = i/(fps*dur)\n",
        "    t = t*t*(3.0-2.0*t)\n",
        "    T = trimesh.transformations.rotation_matrix(2*np.pi*t, [0.0, 0.8, 0.2])\n",
        "    img = renderer.render_mesh(rgb, T)\n",
        "    vid.add(img)\n",
        "imwrite('mesh_%s.jpg'%name, img)\n",
        "vid.show()"
      ]
    },
    {
      "cell_type": "code",
      "execution_count": null,
      "metadata": {
        "cellView": "form",
        "id": "yDZYdqnP31jS"
      },
      "outputs": [],
      "source": [
        "#@title volume renderer code\n",
        "import vispy.geometry\n",
        "from vispy import gloo, app\n",
        "\n",
        "vertex = \"\"\"\n",
        "    #version 130\n",
        "    uniform float aspect;\n",
        "    uniform float head;\n",
        "    uniform float pitch;\n",
        "    in vec3 position;\n",
        "    out vec3 ray_start;\n",
        "    out vec3 ray_dir;\n",
        "\n",
        "    mat2 rot(float a) {\n",
        "      float c=cos(a), s=sin(a);\n",
        "      return mat2(c, -s, s, c);\n",
        "    }\n",
        "    vec3 tform(vec3 p) {\n",
        "      p.yz = rot(-pitch)*p.yz;\n",
        "      p.xz = rot(-head)*p.xz;\n",
        "      return p;\n",
        "    }\n",
        "    void main() {\n",
        "      ray_start = tform(vec3(0.0, 0.0, -1.8))+0.5;\n",
        "      ray_dir = tform(vec3(position.xy*vec2(aspect, 1.0), 1.0));\n",
        "      gl_Position = vec4(position*2.0, 1.0);\n",
        "    } \"\"\"\n",
        "\n",
        "fragment = \"\"\"\n",
        "    #version 130\n",
        "    uniform sampler3D vol;\n",
        "    uniform vec3 sliceMin;\n",
        "    uniform vec3 sliceMax;\n",
        "    in vec3 ray_start;\n",
        "    in vec3 ray_dir;\n",
        "    const float dt = 0.005;\n",
        "\n",
        "    vec2 intersect_box(vec3 orig, vec3 dir) {\n",
        "      vec3 inv_dir = 1.0 / dir;\n",
        "      vec3 tmin_tmp = (sliceMin - orig) * inv_dir;\n",
        "      vec3 tmax_tmp = (sliceMax - orig) * inv_dir;\n",
        "      vec3 tmin = min(tmin_tmp, tmax_tmp);\n",
        "      vec3 tmax = max(tmin_tmp, tmax_tmp);\n",
        "      float t0 = max(tmin.x, max(tmin.y, tmin.z));\n",
        "      float t1 = min(tmax.x, min(tmax.y, tmax.z));\n",
        "      return vec2(t0, t1);\n",
        "    }\n",
        "\n",
        "    void main() {\n",
        "      vec3 p = ray_start;\n",
        "      vec3 d = normalize(ray_dir);\n",
        "      vec2 t_hit = intersect_box(p, d);\n",
        "      if (t_hit.x > t_hit.y) {\n",
        "        discard;\n",
        "      }\n",
        "      t_hit.x = max(t_hit.x, 0.0);\n",
        "      vec4 acc = vec4(0.0);\n",
        "      for (float t=t_hit.x; t<t_hit.y; t+=dt) {\n",
        "        vec3 c = texture(vol, p+d*t).rgb;\n",
        "        float a = 1.0-c.r*c.g*c.b;\n",
        "        a = a*a;\n",
        "        c *= a;\n",
        "        float opacity = 70.0;\n",
        "        acc.rgb += opacity*dt*c*(1.0-acc.a);\n",
        "        acc.a += opacity*dt*a*(1.0-acc.a);\n",
        "        if (acc.a >= 0.95) {\n",
        "          break;\n",
        "        }\n",
        "      }\n",
        "      gl_FragColor = acc;\n",
        "    } \"\"\"\n",
        "\n",
        "class VolCanvas(app.Canvas):\n",
        "    def __init__(self, vol):\n",
        "        super().__init__(size=(600, 600))\n",
        "\n",
        "        self.vol = gloo.Texture3D(vol,\n",
        "          interpolation='linear', wrapping='repeat')\n",
        "\n",
        "        verts, indices, _ = vispy.geometry.create_plane()\n",
        "        self.indices = gloo.IndexBuffer(indices)\n",
        "        self.program = gloo.Program(vertex, fragment)\n",
        "        w, h = self.size\n",
        "        self.program['aspect'] = w/h\n",
        "        self.program['position'] = verts\n",
        "        self.program['vol'] = self.vol\n",
        "        self.program['sliceMin'] = [0.0, 0.0, 0.0]\n",
        "        self.program['sliceMax'] = [1.0, 1.0, 1.0]\n",
        "\n",
        "    def on_draw(self, event):\n",
        "      gloo.set_state('translucent')\n",
        "      gloo.set_clear_color('white')\n",
        "      gloo.clear()\n",
        "      self.program.draw('triangles', self.indices)\n",
        "\n",
        "    def render_volume(self, head=0.5, pitch=0.5):\n",
        "      self.program['head'] = head\n",
        "      self.program['pitch'] = pitch\n",
        "      return canvas.render()[...,:3]"
      ]
    },
    {
      "cell_type": "code",
      "execution_count": null,
      "metadata": {
        "id": "S705WE_NyYEg"
      },
      "outputs": [],
      "source": [
        "names"
      ]
    },
    {
      "cell_type": "code",
      "execution_count": null,
      "metadata": {
        "id": "Dybp-LP-OYIs"
      },
      "outputs": [],
      "source": [
        "#@title Figure 6: RD model in 3D volume {vertical-output: true}\n",
        "\n",
        "ca = CA()\n",
        "name = 'lizard_20000'\n",
        "[v.assign(p) for p, v in zip(models[name], ca.variables)]\n",
        "\n",
        "def pad_repeat3d(x, pad=1):\n",
        "  x = tf.concat([x[:, -pad:], x, x[:, :pad]], 1)\n",
        "  x = tf.concat([x[:, :, -pad:], x, x[:, :, :pad]], 2)\n",
        "  x = tf.concat([x[:, :, :, -pad:], x, x[:, :, :, :pad]], 3)\n",
        "  return x\n",
        "\n",
        "@tf.function\n",
        "def step_f(ca, x, r=0.8, d=0.6):\n",
        "  w1 = ca.w1.kernel[0, 0]\n",
        "  b1 = ca.w1.bias\n",
        "  w2 = ca.w2.kernel[0, 0]\n",
        "  lx = tf.nn.avg_pool3d(pad_repeat3d(x), 3, 1, 'VALID')-x\n",
        "  diff = lx*ca.get_giff_coef()\n",
        "  y = x@w1+b1\n",
        "  y = y*tf.nn.sigmoid(y*5.0)\n",
        "  react = y@w2\n",
        "  x = x + diff*d + react*r\n",
        "  return x\n",
        "\n",
        "d = 100\n",
        "x = np.float32(np.floor(np.random.rand(1, d, d, d, 1)+0.001))\n",
        "for i in range(10):\n",
        "  x = tf.nn.avg_pool3d(x, 3, 1, 'SAME')\n",
        "x *= 30.0\n",
        "x = np.float32(x*(np.arange(CHN)<3))\n",
        "print(x.max())\n",
        "\n",
        "canvas = VolCanvas(np.array(to_rgb(x[0])))\n",
        "imshow(canvas.render_volume())\n",
        "\n",
        "with VideoWriter('vol_%s.mp4'%name) as vid:\n",
        "  for i, t in enumerate(tqdm.tqdm_notebook(np.linspace(0.0, 1.0, 400))):\n",
        "    step_n = int(min(2**(i/30), 50))\n",
        "    for _ in range(step_n):\n",
        "      x = step_f(ca, x)\n",
        "    t = t*t*(3.0-2.0*t)\n",
        "    canvas.vol.set_data(to_rgb(x[0]).numpy())\n",
        "    img = canvas.render_volume(head=2.0*np.pi*t+0.3)\n",
        "    vid.add(img)\n",
        "    if i%10==0:\n",
        "      clear_output(True)\n",
        "      imshow(img)\n",
        "      print(i, 'steps per frame:', step_n)\n",
        "  for t in tqdm.tqdm_notebook(np.linspace(0, 2.0*np.pi, 120)):\n",
        "    t = (np.cos(t)*0.5+0.5)*0.99+0.01\n",
        "    canvas.program['sliceMin'] = [0.0, 0.0, 1.0-t]\n",
        "    vid.add(canvas.render_volume(head=0.3))\n",
        "  clear_output(True)\n",
        "imwrite('vol_%s.jpg'%name, canvas.render_volume(head=0.3))\n",
        "vid.show()"
      ]
    },
    {
      "cell_type": "code",
      "execution_count": null,
      "metadata": {
        "id": "QUvaEUBrzJ3n"
      },
      "outputs": [],
      "source": []
    }
  ],
  "metadata": {
    "accelerator": "GPU",
    "colab": {
      "gpuType": "T4",
      "provenance": []
    },
    "kernelspec": {
      "display_name": "Python 3",
      "name": "python3"
    },
    "language_info": {
      "name": "python",
      "version": "3.9.17"
    }
  },
  "nbformat": 4,
  "nbformat_minor": 0
}
